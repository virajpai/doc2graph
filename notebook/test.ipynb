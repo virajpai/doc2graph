{
 "cells": [
  {
   "cell_type": "code",
   "execution_count": 14,
   "metadata": {},
   "outputs": [],
   "source": [
    "import os\n",
    "import fitz  # PyMuPDF\n",
    "import pandas as pd\n",
    "from tqdm import tqdm"
   ]
  },
  {
   "cell_type": "code",
   "execution_count": 61,
   "metadata": {},
   "outputs": [],
   "source": [
    "import spacy\n",
    "from spacy.matcher import Matcher \n",
    "from spacy.tokens import Span \n",
    "\n",
    "# Load spaCy model for named entity recognition\n",
    "nlp = spacy.load(\"en_core_web_sm\")"
   ]
  },
  {
   "cell_type": "code",
   "execution_count": 78,
   "metadata": {},
   "outputs": [],
   "source": [
    "import networkx as nx\n",
    "import matplotlib.pyplot as plt"
   ]
  },
  {
   "cell_type": "code",
   "execution_count": 48,
   "metadata": {},
   "outputs": [],
   "source": [
    "# def extract_entities(text):\n",
    "#     doc = nlp(text)\n",
    "#     entities = {}\n",
    "\n",
    "#     for sent in doc.sents:\n",
    "#         for token in sent:\n",
    "#             if \"subj\" in token.dep_:\n",
    "#                 subject = token.text\n",
    "#             elif \"obj\" in token.dep_:\n",
    "#                 obj = token.text\n",
    "#             elif \"prep\" in token.dep_:\n",
    "#                 relationship = token.text\n",
    "\n",
    "#         if \"subject\" in locals() and \"obj\" in locals() and \"relationship\" in locals():\n",
    "#             entities.update({\n",
    "#                 \"Subject\": subject, \n",
    "#                 \"Object\": obj, \n",
    "#                 \"Relationship\": relationship\n",
    "#             })\n",
    "    \n",
    "#     return entities\n",
    "\n",
    "def extract_entities(sentence):\n",
    "    doc = nlp(sentence)\n",
    "    entities = []\n",
    "\n",
    "    for chunk in doc.noun_chunks:\n",
    "        print(chunk)\n",
    "        if chunk.root.dep_ == \"nsubj\":\n",
    "            subject = chunk.text\n",
    "        elif chunk.root.dep_ == \"dobj\":\n",
    "            obj = chunk.text\n",
    "\n",
    "        relationship = \"\"\n",
    "        for token in doc:\n",
    "            if \"subj\" in token.dep_ and token.text != subject:\n",
    "                relationship += token.text + \" \"\n",
    "            elif \"obj\" in token.dep_ and token.text != obj:\n",
    "                relationship += token.text + \" \"\n",
    "        \n",
    "        entities.append((subject.strip(), obj.strip(), relationship.strip()))\n",
    "    return entities"
   ]
  },
  {
   "cell_type": "code",
   "execution_count": 42,
   "metadata": {},
   "outputs": [],
   "source": [
    "# Read PDF\n",
    "def extract_text_from_pdf(pdf_path):\n",
    "    doc = fitz.open(pdf_path)\n",
    "    text_by_page = []\n",
    "\n",
    "    for page_num in range(doc.page_count):\n",
    "        page = doc[page_num]\n",
    "        text = page.get_text()\n",
    "        text_by_page.append(text)\n",
    "\n",
    "    doc.close()\n",
    "    return text_by_page"
   ]
  },
  {
   "cell_type": "code",
   "execution_count": 43,
   "metadata": {},
   "outputs": [],
   "source": [
    "def process_pdf_documents(folder_path):\n",
    "    data = []\n",
    "\n",
    "    for filename in tqdm(os.listdir(folder_path)):\n",
    "        if filename.endswith(\".pdf\"):\n",
    "            pdf_path = os.path.join(folder_path, filename)\n",
    "            text_by_page = extract_text_from_pdf(pdf_path)\n",
    "\n",
    "            for page_num, text in enumerate(text_by_page, start=1):\n",
    "                entities = extract_entities(text)\n",
    "\n",
    "                for entity in entities:\n",
    "                    # print(entity)\n",
    "                    data.append(list(entity) + list([filename, page_num]))\n",
    "            \n",
    "    \n",
    "\n",
    "    return pd.DataFrame(data, columns=['Subject', 'Object', 'Relationship', 'Doc Name', 'Page Number'])"
   ]
  },
  {
   "cell_type": "code",
   "execution_count": 44,
   "metadata": {},
   "outputs": [],
   "source": [
    "pdf_text = extract_text_from_pdf(pdf_path='../data/raw/EdgeReport_CAMS_CaseStudy_07_11_2023_1001.pdf')"
   ]
  },
  {
   "cell_type": "code",
   "execution_count": 45,
   "metadata": {},
   "outputs": [
    {
     "name": "stderr",
     "output_type": "stream",
     "text": [
      "  0%|          | 0/1 [00:00<?, ?it/s]"
     ]
    },
    {
     "name": "stdout",
     "output_type": "stream",
     "text": [
      "COMPUTER AGE \n",
      "MANAGEMENT SERVICES \n",
      "LIMITED\n",
      "Case Study\n",
      "7th November\n"
     ]
    },
    {
     "name": "stderr",
     "output_type": "stream",
     "text": [
      "\n"
     ]
    },
    {
     "ename": "UnboundLocalError",
     "evalue": "local variable 'subject' referenced before assignment",
     "output_type": "error",
     "traceback": [
      "\u001b[0;31m---------------------------------------------------------------------------\u001b[0m",
      "\u001b[0;31mUnboundLocalError\u001b[0m                         Traceback (most recent call last)",
      "Cell \u001b[0;32mIn[45], line 1\u001b[0m\n\u001b[0;32m----> 1\u001b[0m df \u001b[38;5;241m=\u001b[39m \u001b[43mprocess_pdf_documents\u001b[49m\u001b[43m(\u001b[49m\u001b[43mfolder_path\u001b[49m\u001b[38;5;241;43m=\u001b[39;49m\u001b[38;5;124;43m'\u001b[39;49m\u001b[38;5;124;43m../data/raw/\u001b[39;49m\u001b[38;5;124;43m'\u001b[39;49m\u001b[43m)\u001b[49m\n",
      "Cell \u001b[0;32mIn[43], line 10\u001b[0m, in \u001b[0;36mprocess_pdf_documents\u001b[0;34m(folder_path)\u001b[0m\n\u001b[1;32m      7\u001b[0m text_by_page \u001b[38;5;241m=\u001b[39m extract_text_from_pdf(pdf_path)\n\u001b[1;32m      9\u001b[0m \u001b[38;5;28;01mfor\u001b[39;00m page_num, text \u001b[38;5;129;01min\u001b[39;00m \u001b[38;5;28menumerate\u001b[39m(text_by_page, start\u001b[38;5;241m=\u001b[39m\u001b[38;5;241m1\u001b[39m):\n\u001b[0;32m---> 10\u001b[0m     entities \u001b[38;5;241m=\u001b[39m \u001b[43mextract_entities\u001b[49m\u001b[43m(\u001b[49m\u001b[43mtext\u001b[49m\u001b[43m)\u001b[49m\n\u001b[1;32m     12\u001b[0m     \u001b[38;5;28;01mfor\u001b[39;00m entity \u001b[38;5;129;01min\u001b[39;00m entities:\n\u001b[1;32m     13\u001b[0m         \u001b[38;5;66;03m# print(entity)\u001b[39;00m\n\u001b[1;32m     14\u001b[0m         data\u001b[38;5;241m.\u001b[39mappend(\u001b[38;5;28mlist\u001b[39m(entity) \u001b[38;5;241m+\u001b[39m \u001b[38;5;28mlist\u001b[39m([filename, page_num]))\n",
      "Cell \u001b[0;32mIn[41], line 41\u001b[0m, in \u001b[0;36mextract_entities\u001b[0;34m(sentence)\u001b[0m\n\u001b[1;32m     38\u001b[0m     \u001b[38;5;28;01melif\u001b[39;00m \u001b[38;5;124m\"\u001b[39m\u001b[38;5;124mobj\u001b[39m\u001b[38;5;124m\"\u001b[39m \u001b[38;5;129;01min\u001b[39;00m token\u001b[38;5;241m.\u001b[39mdep_ \u001b[38;5;129;01mand\u001b[39;00m token\u001b[38;5;241m.\u001b[39mtext \u001b[38;5;241m!=\u001b[39m obj:\n\u001b[1;32m     39\u001b[0m         relationship \u001b[38;5;241m+\u001b[39m\u001b[38;5;241m=\u001b[39m token\u001b[38;5;241m.\u001b[39mtext \u001b[38;5;241m+\u001b[39m \u001b[38;5;124m\"\u001b[39m\u001b[38;5;124m \u001b[39m\u001b[38;5;124m\"\u001b[39m\n\u001b[0;32m---> 41\u001b[0m entities\u001b[38;5;241m.\u001b[39mappend((\u001b[43msubject\u001b[49m\u001b[38;5;241m.\u001b[39mstrip(), obj\u001b[38;5;241m.\u001b[39mstrip(), relationship\u001b[38;5;241m.\u001b[39mstrip()))\n\u001b[1;32m     42\u001b[0m \u001b[38;5;28;01mreturn\u001b[39;00m entities\n",
      "\u001b[0;31mUnboundLocalError\u001b[0m: local variable 'subject' referenced before assignment"
     ]
    }
   ],
   "source": [
    "df = process_pdf_documents(folder_path='../data/raw/')"
   ]
  },
  {
   "cell_type": "code",
   "execution_count": 26,
   "metadata": {},
   "outputs": [
    {
     "ename": "NameError",
     "evalue": "name 'entity' is not defined",
     "output_type": "error",
     "traceback": [
      "\u001b[0;31m---------------------------------------------------------------------------\u001b[0m",
      "\u001b[0;31mNameError\u001b[0m                                 Traceback (most recent call last)",
      "Cell \u001b[0;32mIn[26], line 1\u001b[0m\n\u001b[0;32m----> 1\u001b[0m \u001b[43mentity\u001b[49m\n",
      "\u001b[0;31mNameError\u001b[0m: name 'entity' is not defined"
     ]
    }
   ],
   "source": [
    "entity"
   ]
  },
  {
   "cell_type": "code",
   "execution_count": 46,
   "metadata": {},
   "outputs": [],
   "source": [
    "sent = \"Computer Age Management Services Limited (CAMS) was founded in 1988 is a technology driven financial infrastructure and services provider to mutual funds and other financial institutions for over 25 years.\""
   ]
  },
  {
   "cell_type": "code",
   "execution_count": 49,
   "metadata": {},
   "outputs": [
    {
     "name": "stdout",
     "output_type": "stream",
     "text": [
      "Computer Age Management Services Limited\n"
     ]
    },
    {
     "ename": "UnboundLocalError",
     "evalue": "local variable 'subject' referenced before assignment",
     "output_type": "error",
     "traceback": [
      "\u001b[0;31m---------------------------------------------------------------------------\u001b[0m",
      "\u001b[0;31mUnboundLocalError\u001b[0m                         Traceback (most recent call last)",
      "Cell \u001b[0;32mIn[49], line 1\u001b[0m\n\u001b[0;32m----> 1\u001b[0m \u001b[43mextract_entities\u001b[49m\u001b[43m(\u001b[49m\u001b[43msent\u001b[49m\u001b[43m)\u001b[49m\n",
      "Cell \u001b[0;32mIn[48], line 36\u001b[0m, in \u001b[0;36mextract_entities\u001b[0;34m(sentence)\u001b[0m\n\u001b[1;32m     34\u001b[0m relationship \u001b[38;5;241m=\u001b[39m \u001b[38;5;124m\"\u001b[39m\u001b[38;5;124m\"\u001b[39m\n\u001b[1;32m     35\u001b[0m \u001b[38;5;28;01mfor\u001b[39;00m token \u001b[38;5;129;01min\u001b[39;00m doc:\n\u001b[0;32m---> 36\u001b[0m     \u001b[38;5;28;01mif\u001b[39;00m \u001b[38;5;124m\"\u001b[39m\u001b[38;5;124msubj\u001b[39m\u001b[38;5;124m\"\u001b[39m \u001b[38;5;129;01min\u001b[39;00m token\u001b[38;5;241m.\u001b[39mdep_ \u001b[38;5;129;01mand\u001b[39;00m token\u001b[38;5;241m.\u001b[39mtext \u001b[38;5;241m!=\u001b[39m \u001b[43msubject\u001b[49m:\n\u001b[1;32m     37\u001b[0m         relationship \u001b[38;5;241m+\u001b[39m\u001b[38;5;241m=\u001b[39m token\u001b[38;5;241m.\u001b[39mtext \u001b[38;5;241m+\u001b[39m \u001b[38;5;124m\"\u001b[39m\u001b[38;5;124m \u001b[39m\u001b[38;5;124m\"\u001b[39m\n\u001b[1;32m     38\u001b[0m     \u001b[38;5;28;01melif\u001b[39;00m \u001b[38;5;124m\"\u001b[39m\u001b[38;5;124mobj\u001b[39m\u001b[38;5;124m\"\u001b[39m \u001b[38;5;129;01min\u001b[39;00m token\u001b[38;5;241m.\u001b[39mdep_ \u001b[38;5;129;01mand\u001b[39;00m token\u001b[38;5;241m.\u001b[39mtext \u001b[38;5;241m!=\u001b[39m obj:\n",
      "\u001b[0;31mUnboundLocalError\u001b[0m: local variable 'subject' referenced before assignment"
     ]
    }
   ],
   "source": [
    "extract_entities(sent)"
   ]
  },
  {
   "cell_type": "code",
   "execution_count": 50,
   "metadata": {},
   "outputs": [],
   "source": [
    "doc = nlp(sent)"
   ]
  },
  {
   "cell_type": "code",
   "execution_count": 52,
   "metadata": {},
   "outputs": [],
   "source": [
    "def get_subject_phrase(doc):\n",
    "    for token in doc:\n",
    "        if (\"subj\" in token.dep_):\n",
    "            subtree = list(token.subtree)\n",
    "            start = subtree[0].i\n",
    "            end = subtree[-1].i + 1\n",
    "            return doc[start:end]"
   ]
  },
  {
   "cell_type": "code",
   "execution_count": 55,
   "metadata": {},
   "outputs": [],
   "source": [
    "def get_object_phrase(doc):\n",
    "    for token in doc:\n",
    "        if (\"obj\" in token.dep_):\n",
    "            subtree = list(token.subtree)\n",
    "            start = subtree[0].i\n",
    "            end = subtree[-1].i + 1\n",
    "            return doc[start:end]"
   ]
  },
  {
   "cell_type": "code",
   "execution_count": 56,
   "metadata": {},
   "outputs": [
    {
     "name": "stdout",
     "output_type": "stream",
     "text": [
      "Computer Age Management Services Limited (CAMS)\n",
      "1988\n"
     ]
    }
   ],
   "source": [
    "doc = nlp(sent)\n",
    "subject_phrase = get_subject_phrase(doc)\n",
    "object_phrase = get_object_phrase(doc)\n",
    "print(subject_phrase)\n",
    "print(object_phrase)"
   ]
  },
  {
   "cell_type": "code",
   "execution_count": null,
   "metadata": {},
   "outputs": [],
   "source": []
  },
  {
   "cell_type": "code",
   "execution_count": null,
   "metadata": {},
   "outputs": [],
   "source": [
    "def extract_entities(sentence):\n",
    "    doc = nlp(sentence)\n",
    "    entities = []\n",
    "\n",
    "    for chunk in doc.noun_chunks:\n",
    "        print(chunk)\n",
    "        if chunk.root.dep_ == \"nsubj\":\n",
    "            subject = chunk.text\n",
    "        elif chunk.root.dep_ == \"dobj\":\n",
    "            obj = chunk.text\n",
    "\n",
    "        relationship = \"\"\n",
    "        for token in doc:\n",
    "            if \"subj\" in token.dep_ and token.text != subject:\n",
    "                relationship += token.text + \" \"\n",
    "            elif \"obj\" in token.dep_ and token.text != obj:\n",
    "                relationship += token.text + \" \"\n",
    "        \n",
    "        entities.append((subject.strip(), obj.strip(), relationship.strip()))\n",
    "    return entities"
   ]
  },
  {
   "cell_type": "code",
   "execution_count": 57,
   "metadata": {},
   "outputs": [],
   "source": [
    "def get_entities(sent):\n",
    " \n",
    "  ent1 = \"\"\n",
    "  ent2 = \"\"\n",
    "\n",
    "  prv_tok_dep = \"\"    \n",
    "  prv_tok_text = \"\"   \n",
    "\n",
    "  prefix = \"\"\n",
    "  modifier = \"\"\n",
    "\n",
    "  \n",
    "  \n",
    "  for tok in nlp(sent):\n",
    "    \n",
    "    if tok.dep_ != \"punct\":\n",
    "     \n",
    "      if tok.dep_ == \"compound\":\n",
    "        prefix = tok.text\n",
    "        \n",
    "        if prv_tok_dep == \"compound\":\n",
    "          prefix = prv_tok_text + \" \"+ tok.text\n",
    "      \n",
    "     \n",
    "      if tok.dep_.endswith(\"mod\") == True:\n",
    "        modifier = tok.text\n",
    "       \n",
    "        if prv_tok_dep == \"compound\":\n",
    "          modifier = prv_tok_text + \" \"+ tok.text\n",
    "      \n",
    "     \n",
    "      if tok.dep_.find(\"subj\") == True:\n",
    "        ent1 = modifier +\" \"+ prefix + \" \"+ tok.text\n",
    "        prefix = \"\"\n",
    "        modifier = \"\"\n",
    "        prv_tok_dep = \"\"\n",
    "        prv_tok_text = \"\"      \n",
    "\n",
    "     \n",
    "      if tok.dep_.find(\"obj\") == True:\n",
    "        ent2 = modifier +\" \"+ prefix +\" \"+ tok.text\n",
    "        \n",
    "      \n",
    "      \n",
    "      prv_tok_dep = tok.dep_\n",
    "      prv_tok_text = tok.text\n",
    " \n",
    "\n",
    "  return [ent1.strip(), ent2.strip()]"
   ]
  },
  {
   "cell_type": "code",
   "execution_count": 66,
   "metadata": {},
   "outputs": [],
   "source": [
    "def get_relation(sent):\n",
    "\n",
    "  doc = nlp(sent)\n",
    "\n",
    "  # Matcher class object \n",
    "  matcher = Matcher(nlp.vocab)\n",
    "\n",
    "  #define the pattern \n",
    "  pattern = [{'DEP':'ROOT'}, \n",
    "            {'DEP':'prep','OP':\"?\"},\n",
    "            {'DEP':'agent','OP':\"?\"},  \n",
    "            {'POS':'ADJ','OP':\"?\"}] \n",
    "\n",
    "  matcher.add(\"matching_1\", None, pattern) \n",
    "\n",
    "  matches = matcher(doc)\n",
    "  k = len(matches) - 1\n",
    "\n",
    "  span = doc[matches[k][1]:matches[k][2]] \n",
    "\n",
    "  return(span.text)\n"
   ]
  },
  {
   "cell_type": "code",
   "execution_count": 67,
   "metadata": {},
   "outputs": [
    {
     "data": {
      "text/plain": [
       "['Management Services Limited', '25  years']"
      ]
     },
     "execution_count": 67,
     "metadata": {},
     "output_type": "execute_result"
    }
   ],
   "source": [
    "get_entities(sent)"
   ]
  },
  {
   "cell_type": "code",
   "execution_count": 68,
   "metadata": {},
   "outputs": [
    {
     "ename": "TypeError",
     "evalue": "add() takes exactly 2 positional arguments (3 given)",
     "output_type": "error",
     "traceback": [
      "\u001b[0;31m---------------------------------------------------------------------------\u001b[0m",
      "\u001b[0;31mTypeError\u001b[0m                                 Traceback (most recent call last)",
      "Cell \u001b[0;32mIn[68], line 1\u001b[0m\n\u001b[0;32m----> 1\u001b[0m \u001b[43mget_relation\u001b[49m\u001b[43m(\u001b[49m\u001b[43msent\u001b[49m\u001b[43m)\u001b[49m\n",
      "Cell \u001b[0;32mIn[66], line 14\u001b[0m, in \u001b[0;36mget_relation\u001b[0;34m(sent)\u001b[0m\n\u001b[1;32m      8\u001b[0m \u001b[38;5;66;03m#define the pattern \u001b[39;00m\n\u001b[1;32m      9\u001b[0m pattern \u001b[38;5;241m=\u001b[39m [{\u001b[38;5;124m'\u001b[39m\u001b[38;5;124mDEP\u001b[39m\u001b[38;5;124m'\u001b[39m:\u001b[38;5;124m'\u001b[39m\u001b[38;5;124mROOT\u001b[39m\u001b[38;5;124m'\u001b[39m}, \n\u001b[1;32m     10\u001b[0m           {\u001b[38;5;124m'\u001b[39m\u001b[38;5;124mDEP\u001b[39m\u001b[38;5;124m'\u001b[39m:\u001b[38;5;124m'\u001b[39m\u001b[38;5;124mprep\u001b[39m\u001b[38;5;124m'\u001b[39m,\u001b[38;5;124m'\u001b[39m\u001b[38;5;124mOP\u001b[39m\u001b[38;5;124m'\u001b[39m:\u001b[38;5;124m\"\u001b[39m\u001b[38;5;124m?\u001b[39m\u001b[38;5;124m\"\u001b[39m},\n\u001b[1;32m     11\u001b[0m           {\u001b[38;5;124m'\u001b[39m\u001b[38;5;124mDEP\u001b[39m\u001b[38;5;124m'\u001b[39m:\u001b[38;5;124m'\u001b[39m\u001b[38;5;124magent\u001b[39m\u001b[38;5;124m'\u001b[39m,\u001b[38;5;124m'\u001b[39m\u001b[38;5;124mOP\u001b[39m\u001b[38;5;124m'\u001b[39m:\u001b[38;5;124m\"\u001b[39m\u001b[38;5;124m?\u001b[39m\u001b[38;5;124m\"\u001b[39m},  \n\u001b[1;32m     12\u001b[0m           {\u001b[38;5;124m'\u001b[39m\u001b[38;5;124mPOS\u001b[39m\u001b[38;5;124m'\u001b[39m:\u001b[38;5;124m'\u001b[39m\u001b[38;5;124mADJ\u001b[39m\u001b[38;5;124m'\u001b[39m,\u001b[38;5;124m'\u001b[39m\u001b[38;5;124mOP\u001b[39m\u001b[38;5;124m'\u001b[39m:\u001b[38;5;124m\"\u001b[39m\u001b[38;5;124m?\u001b[39m\u001b[38;5;124m\"\u001b[39m}] \n\u001b[0;32m---> 14\u001b[0m \u001b[43mmatcher\u001b[49m\u001b[38;5;241;43m.\u001b[39;49m\u001b[43madd\u001b[49m\u001b[43m(\u001b[49m\u001b[38;5;124;43m\"\u001b[39;49m\u001b[38;5;124;43mmatching_1\u001b[39;49m\u001b[38;5;124;43m\"\u001b[39;49m\u001b[43m,\u001b[49m\u001b[43m \u001b[49m\u001b[38;5;28;43;01mNone\u001b[39;49;00m\u001b[43m,\u001b[49m\u001b[43m \u001b[49m\u001b[43mpattern\u001b[49m\u001b[43m)\u001b[49m \n\u001b[1;32m     16\u001b[0m matches \u001b[38;5;241m=\u001b[39m matcher(doc)\n\u001b[1;32m     17\u001b[0m k \u001b[38;5;241m=\u001b[39m \u001b[38;5;28mlen\u001b[39m(matches) \u001b[38;5;241m-\u001b[39m \u001b[38;5;241m1\u001b[39m\n",
      "File \u001b[0;32m/usr/local/python/3.10.13/lib/python3.10/site-packages/spacy/matcher/matcher.pyx:79\u001b[0m, in \u001b[0;36mspacy.matcher.matcher.Matcher.add\u001b[0;34m()\u001b[0m\n",
      "\u001b[0;31mTypeError\u001b[0m: add() takes exactly 2 positional arguments (3 given)"
     ]
    }
   ],
   "source": [
    "get_relation(sent)"
   ]
  },
  {
   "cell_type": "code",
   "execution_count": 69,
   "metadata": {},
   "outputs": [
    {
     "name": "stdout",
     "output_type": "stream",
     "text": [
      "Entities: [('Bill Gates', 'PERSON'), ('Microsoft', 'ORG'), ('1975', 'DATE')]\n",
      "Relationships: [('founded', 'Bill Gates', 'nsubj'), ('founded', 'Microsoft', 'dobj'), ('in', '1975', 'pobj')]\n"
     ]
    }
   ],
   "source": [
    "# Your input sentence\n",
    "sentence = \"Bill Gates founded Microsoft in 1975.\"\n",
    "\n",
    "# Process the sentence with spaCy\n",
    "doc = nlp(sentence)\n",
    "\n",
    "# Extract entities and relationships\n",
    "entities = [(ent.text, ent.label_) for ent in doc.ents]\n",
    "relationships = [(ent.root.head.text, ent.text, ent.root.dep_) for ent in doc.ents]\n",
    "\n",
    "# Print the results\n",
    "print(\"Entities:\", entities)\n",
    "print(\"Relationships:\", relationships)"
   ]
  },
  {
   "cell_type": "code",
   "execution_count": 70,
   "metadata": {},
   "outputs": [
    {
     "name": "stdout",
     "output_type": "stream",
     "text": [
      "Entities: [('Computer Age Management Services Limited', 'ORG'), ('1988', 'DATE'), ('over 25 years', 'DATE')]\n",
      "Relationships: [('founded', 'Computer Age Management Services Limited', 'nsubjpass'), ('in', '1988', 'pobj'), ('for', 'over 25 years', 'pobj')]\n"
     ]
    }
   ],
   "source": [
    "# Process the sentence with spaCy\n",
    "doc = nlp(sent)\n",
    "\n",
    "# Extract entities and relationships\n",
    "entities = [(ent.text, ent.label_) for ent in doc.ents]\n",
    "relationships = [(ent.root.head.text, ent.text, ent.root.dep_) for ent in doc.ents]\n",
    "\n",
    "# Print the results\n",
    "print(\"Entities:\", entities)\n",
    "print(\"Relationships:\", relationships)"
   ]
  },
  {
   "cell_type": "code",
   "execution_count": 71,
   "metadata": {},
   "outputs": [],
   "source": [
    "def extract_entities_and_relationships(sentence):\n",
    "    # Load the spaCy model\n",
    "    nlp = spacy.load(\"en_core_web_sm\")\n",
    "\n",
    "    # Process the sentence with spaCy\n",
    "    doc = nlp(sentence)\n",
    "\n",
    "    # Extract entities and relationships for each clause\n",
    "    entities = []\n",
    "    relationships = []\n",
    "\n",
    "    for sent in doc.sents:\n",
    "        sent_entities = [(ent.text, ent.label_) for ent in sent.ents]\n",
    "        sent_relationships = [(ent.root.head.text, ent.text, ent.root.dep_) for ent in sent.ents]\n",
    "\n",
    "        entities.extend(sent_entities)\n",
    "        relationships.extend(sent_relationships)\n",
    "\n",
    "    return entities, relationships"
   ]
  },
  {
   "cell_type": "code",
   "execution_count": 72,
   "metadata": {},
   "outputs": [
    {
     "name": "stdout",
     "output_type": "stream",
     "text": [
      "Entities: [('Bill Gates', 'PERSON'), ('Microsoft', 'ORG'), ('1975', 'DATE'), ('Steve Jobs', 'PERSON'), ('Apple', 'ORG'), ('1976', 'DATE')]\n",
      "Relationships: [('founded', 'Bill Gates', 'nsubj'), ('founded', 'Microsoft', 'dobj'), ('in', '1975', 'pobj'), ('co', 'Steve Jobs', 'nsubj'), ('founded', 'Apple', 'dobj'), ('in', '1976', 'pobj')]\n"
     ]
    }
   ],
   "source": [
    "# Your input compound sentence\n",
    "compound_sentence = \"Bill Gates founded Microsoft in 1975, and Steve Jobs co-founded Apple in 1976.\"\n",
    "\n",
    "# Extract entities and relationships\n",
    "entities, relationships = extract_entities_and_relationships(compound_sentence)\n",
    "\n",
    "# Print the results\n",
    "print(\"Entities:\", entities)\n",
    "print(\"Relationships:\", relationships)\n"
   ]
  },
  {
   "cell_type": "code",
   "execution_count": 73,
   "metadata": {},
   "outputs": [
    {
     "name": "stdout",
     "output_type": "stream",
     "text": [
      "Entities: [('Computer Age Management Services Limited', 'ORG'), ('1988', 'DATE'), ('over 25 years', 'DATE')]\n",
      "Relationships: [('founded', 'Computer Age Management Services Limited', 'nsubjpass'), ('in', '1988', 'pobj'), ('for', 'over 25 years', 'pobj')]\n"
     ]
    }
   ],
   "source": [
    "# Extract entities and relationships\n",
    "entities, relationships = extract_entities_and_relationships(sent)\n",
    "\n",
    "# Print the results\n",
    "print(\"Entities:\", entities)\n",
    "print(\"Relationships:\", relationships)"
   ]
  },
  {
   "cell_type": "code",
   "execution_count": 74,
   "metadata": {},
   "outputs": [
    {
     "name": "stdout",
     "output_type": "stream",
     "text": [
      "Entities: [('Bill Gates', 'PERSON'), ('Microsoft', 'ORG'), ('1975', 'DATE'), ('billions of dollars', 'MONEY')]\n",
      "Relationships: []\n"
     ]
    }
   ],
   "source": [
    "def extract_entities_and_relationships(sentence):\n",
    "    # Load the spaCy model\n",
    "    nlp = spacy.load(\"en_core_web_sm\")\n",
    "\n",
    "    # Process the sentence with spaCy\n",
    "    doc = nlp(sentence)\n",
    "\n",
    "    # Extract entities and relationships\n",
    "    entities = [(ent.text, ent.label_) for ent in doc.ents]\n",
    "    relationships = []\n",
    "\n",
    "    for token in doc:\n",
    "        if token.dep_ in (\"nsubj\", \"nsubjpass\") and token.head.pos_ == \"VERB\":\n",
    "            subject = token.text\n",
    "            verb = token.head.text\n",
    "            obj = [child.text for child in token.children if child.dep_ == \"dobj\"]\n",
    "\n",
    "            if obj:\n",
    "                relationships.append((subject, verb, obj[0]))\n",
    "\n",
    "    return entities, relationships\n",
    "\n",
    "# Your input sentence with both complex and compound structures\n",
    "sentence = \"Bill Gates, who founded Microsoft in 1975, is a philanthropist, and he donated billions of dollars.\"\n",
    "\n",
    "# Extract entities and relationships\n",
    "entities, relationships = extract_entities_and_relationships(sentence)\n",
    "\n",
    "# Print the results\n",
    "print(\"Entities:\", entities)\n",
    "print(\"Relationships:\", relationships)"
   ]
  },
  {
   "cell_type": "code",
   "execution_count": 75,
   "metadata": {},
   "outputs": [
    {
     "name": "stdout",
     "output_type": "stream",
     "text": [
      "Entities: [('Computer Age Management Services Limited', 'ORG'), ('1988', 'DATE'), ('over 25 years', 'DATE')]\n",
      "Relationships: []\n"
     ]
    }
   ],
   "source": [
    "# Extract entities and relationships\n",
    "entities, relationships = extract_entities_and_relationships(sent)\n",
    "\n",
    "# Print the results\n",
    "print(\"Entities:\", entities)\n",
    "print(\"Relationships:\", relationships)"
   ]
  },
  {
   "cell_type": "code",
   "execution_count": 76,
   "metadata": {},
   "outputs": [
    {
     "name": "stdout",
     "output_type": "stream",
     "text": [
      "Entities: [('Bill Gates', 'PERSON'), ('Microsoft', 'ORG'), ('1975', 'DATE'), ('billions of dollars', 'MONEY')]\n",
      "Relationships: [('who', 'founded', 'Microsoft'), ('he', 'donated', 'billions')]\n"
     ]
    }
   ],
   "source": [
    "def extract_entities_and_relationships(sentence):\n",
    "    # Load the spaCy model\n",
    "    nlp = spacy.load(\"en_core_web_sm\")\n",
    "\n",
    "    # Process the sentence with spaCy\n",
    "    doc = nlp(sentence)\n",
    "\n",
    "    # Extract entities and relationships\n",
    "    entities = [(ent.text, ent.label_) for ent in doc.ents]\n",
    "    relationships = []\n",
    "\n",
    "    for token in doc:\n",
    "        if \"subj\" in token.dep_ and token.head.pos_ == \"VERB\":\n",
    "            subject = token.text\n",
    "            verb = token.head.text\n",
    "            obj = [child.text for child in token.head.children if \"obj\" in child.dep_]\n",
    "\n",
    "            if obj:\n",
    "                relationships.append((subject, verb, obj[0]))\n",
    "\n",
    "    return entities, relationships\n",
    "\n",
    "# Your input sentence with both complex and compound structures\n",
    "sentence = \"Bill Gates, who founded Microsoft in 1975, is a philanthropist, and he donated billions of dollars.\"\n",
    "\n",
    "# Extract entities and relationships\n",
    "entities, relationships = extract_entities_and_relationships(sentence)\n",
    "\n",
    "# Print the results\n",
    "print(\"Entities:\", entities)\n",
    "print(\"Relationships:\", relationships)\n"
   ]
  },
  {
   "cell_type": "code",
   "execution_count": 77,
   "metadata": {},
   "outputs": [
    {
     "name": "stdout",
     "output_type": "stream",
     "text": [
      "Entities: [('Computer Age Management Services Limited', 'ORG'), ('1988', 'DATE'), ('over 25 years', 'DATE')]\n",
      "Relationships: []\n"
     ]
    }
   ],
   "source": [
    "# Extract entities and relationships\n",
    "entities, relationships = extract_entities_and_relationships(sent)\n",
    "\n",
    "# Print the results\n",
    "print(\"Entities:\", entities)\n",
    "print(\"Relationships:\", relationships)"
   ]
  },
  {
   "cell_type": "code",
   "execution_count": 79,
   "metadata": {},
   "outputs": [],
   "source": [
    "def create_knowledge_graph(document):\n",
    "    # Load spaCy English model\n",
    "    nlp = spacy.load(\"en_core_web_sm\")\n",
    "\n",
    "    # Process the document using spaCy\n",
    "    doc = nlp(document)\n",
    "\n",
    "    # Initialize a directed graph\n",
    "    graph = nx.DiGraph()\n",
    "\n",
    "    # Extract entities and relationships\n",
    "    entities = set()\n",
    "    relationships = []\n",
    "\n",
    "    for token in doc:\n",
    "        if token.ent_type_ and token.ent_type_ not in (\"\", \"CARDINAL\", \"DATE\"):  # Exclude certain types\n",
    "            entities.add(token.text)\n",
    "\n",
    "    for chunk in doc.noun_chunks:\n",
    "        if len(chunk) > 1:\n",
    "            relationships.append((chunk.root.text, chunk.root.head.text, chunk.text))\n",
    "\n",
    "    # Add nodes and edges to the graph\n",
    "    for entity in entities:\n",
    "        graph.add_node(entity)\n",
    "\n",
    "    for edge in relationships:\n",
    "        graph.add_edge(edge[0], edge[1], relationship=edge[2])\n",
    "\n",
    "    return graph\n",
    "\n",
    "def visualize_knowledge_graph(graph):\n",
    "    pos = nx.spring_layout(graph)  # You can choose other layout algorithms\n",
    "    labels = nx.get_edge_attributes(graph, 'relationship')\n",
    "\n",
    "    nx.draw(graph, pos, with_labels=True, node_size=700, node_color='skyblue', font_size=8)\n",
    "    nx.draw_networkx_edge_labels(graph, pos, edge_labels=labels)\n",
    "    plt.show()"
   ]
  },
  {
   "cell_type": "code",
   "execution_count": 80,
   "metadata": {},
   "outputs": [
    {
     "data": {
      "image/png": "[encoded data removed]",
      "text/plain": [
       "<Figure size 640x480 with 1 Axes>"
      ]
     },
     "metadata": {},
     "output_type": "display_data"
    }
   ],
   "source": [
    "\n",
    "document = \"John works for XYZ Corporation. He lives in City A and is married to Jane. They have two children, Emily and Jake.\"\n",
    "\n",
    "knowledge_graph = create_knowledge_graph(document)\n",
    "visualize_knowledge_graph(knowledge_graph)\n"
   ]
  },
  {
   "cell_type": "code",
   "execution_count": 81,
   "metadata": {},
   "outputs": [
    {
     "data": {
      "image/png": "[encoded data removed]",
      "text/plain": [
       "<Figure size 640x480 with 1 Axes>"
      ]
     },
     "metadata": {},
     "output_type": "display_data"
    }
   ],
   "source": [
    "\n",
    "    knowledge_graph = create_knowledge_graph(sent)\n",
    "    visualize_knowledge_graph(knowledge_graph)\n"
   ]
  },
  {
   "cell_type": "code",
   "execution_count": 84,
   "metadata": {},
   "outputs": [],
   "source": [
    "from tika import parser\n",
    "import pandas as pd\n",
    "from networkx import Graph, DiGraph\n",
    "from bokeh.models import ColumnDataSource, HoverTool, LabelSet, NumeralTickFormatter\n",
    "from bokeh.plotting import figure, show"
   ]
  },
  {
   "cell_type": "code",
   "execution_count": 87,
   "metadata": {},
   "outputs": [
    {
     "ename": "AttributeError",
     "evalue": "'spacy.tokens.span.Span' object has no attribute 'dep_'",
     "output_type": "error",
     "traceback": [
      "\u001b[0;31m---------------------------------------------------------------------------\u001b[0m",
      "\u001b[0;31mAttributeError\u001b[0m                            Traceback (most recent call last)",
      "Cell \u001b[0;32mIn[87], line 105\u001b[0m\n\u001b[1;32m    102\u001b[0m   show(graph)\n\u001b[1;32m    104\u001b[0m \u001b[38;5;28;01mif\u001b[39;00m \u001b[38;5;18m__name__\u001b[39m \u001b[38;5;241m==\u001b[39m \u001b[38;5;124m\"\u001b[39m\u001b[38;5;124m__main__\u001b[39m\u001b[38;5;124m\"\u001b[39m:\n\u001b[0;32m--> 105\u001b[0m   \u001b[43mmain\u001b[49m\u001b[43m(\u001b[49m\u001b[43m)\u001b[49m\n",
      "Cell \u001b[0;32mIn[87], line 99\u001b[0m, in \u001b[0;36mmain\u001b[0;34m()\u001b[0m\n\u001b[1;32m     97\u001b[0m \u001b[38;5;28;01mdef\u001b[39;00m \u001b[38;5;21mmain\u001b[39m():\n\u001b[1;32m     98\u001b[0m   folder_path \u001b[38;5;241m=\u001b[39m \u001b[38;5;124m'\u001b[39m\u001b[38;5;124m../data/raw/\u001b[39m\u001b[38;5;124m'\u001b[39m\n\u001b[0;32m---> 99\u001b[0m   entities \u001b[38;5;241m=\u001b[39m \u001b[43mextract_entities\u001b[49m\u001b[43m(\u001b[49m\u001b[43mfolder_path\u001b[49m\u001b[43m)\u001b[49m\n\u001b[1;32m    100\u001b[0m   df \u001b[38;5;241m=\u001b[39m create_dataframe(entities)\n\u001b[1;32m    101\u001b[0m   graph \u001b[38;5;241m=\u001b[39m create_graph(df)\n",
      "Cell \u001b[0;32mIn[87], line 34\u001b[0m, in \u001b[0;36mextract_entities\u001b[0;34m(folder_path)\u001b[0m\n\u001b[1;32m     31\u001b[0m   text \u001b[38;5;241m=\u001b[39m parser\u001b[38;5;241m.\u001b[39mfrom_file(filepath)[\u001b[38;5;124m'\u001b[39m\u001b[38;5;124mcontent\u001b[39m\u001b[38;5;124m'\u001b[39m]\n\u001b[1;32m     32\u001b[0m   \u001b[38;5;66;03m# Use any entity extraction library (e.g., spaCy) to parse text and extract entities and relationships\u001b[39;00m\n\u001b[1;32m     33\u001b[0m   \u001b[38;5;66;03m# Replace the following with your chosen library's extraction logic\u001b[39;00m\n\u001b[0;32m---> 34\u001b[0m   \u001b[38;5;28;01mfor\u001b[39;00m subject, \u001b[38;5;28mobject\u001b[39m, relation \u001b[38;5;129;01min\u001b[39;00m \u001b[43mparse_text\u001b[49m\u001b[43m(\u001b[49m\u001b[43mtext\u001b[49m\u001b[43m)\u001b[49m:\n\u001b[1;32m     35\u001b[0m     entities\u001b[38;5;241m.\u001b[39mappend((subject, \u001b[38;5;28mobject\u001b[39m, relation, filename, page_num))\n\u001b[1;32m     36\u001b[0m \u001b[38;5;28;01mreturn\u001b[39;00m entities\n",
      "Cell \u001b[0;32mIn[87], line 4\u001b[0m, in \u001b[0;36mparse_text\u001b[0;34m(text)\u001b[0m\n\u001b[1;32m      2\u001b[0m nlp \u001b[38;5;241m=\u001b[39m spacy\u001b[38;5;241m.\u001b[39mload(\u001b[38;5;124m\"\u001b[39m\u001b[38;5;124men_core_web_sm\u001b[39m\u001b[38;5;124m\"\u001b[39m)\n\u001b[1;32m      3\u001b[0m doc \u001b[38;5;241m=\u001b[39m nlp(text)\n\u001b[0;32m----> 4\u001b[0m entities \u001b[38;5;241m=\u001b[39m [(e\u001b[38;5;241m.\u001b[39mtext, e\u001b[38;5;241m.\u001b[39mlabel_, e\u001b[38;5;241m.\u001b[39mdep_) \u001b[38;5;28;01mfor\u001b[39;00m e \u001b[38;5;129;01min\u001b[39;00m doc\u001b[38;5;241m.\u001b[39ments]\n\u001b[1;32m      5\u001b[0m \u001b[38;5;66;03m# Process entities to identify subjects, objects and relationships\u001b[39;00m\n\u001b[1;32m      6\u001b[0m \u001b[38;5;66;03m# Modify this logic based on your specific needs\u001b[39;00m\n\u001b[1;32m      7\u001b[0m subjects, objects, relationships \u001b[38;5;241m=\u001b[39m \u001b[38;5;28mzip\u001b[39m(\u001b[38;5;241m*\u001b[39m[process_entity(e) \u001b[38;5;28;01mfor\u001b[39;00m e \u001b[38;5;129;01min\u001b[39;00m entities])\n",
      "Cell \u001b[0;32mIn[87], line 4\u001b[0m, in \u001b[0;36m<listcomp>\u001b[0;34m(.0)\u001b[0m\n\u001b[1;32m      2\u001b[0m nlp \u001b[38;5;241m=\u001b[39m spacy\u001b[38;5;241m.\u001b[39mload(\u001b[38;5;124m\"\u001b[39m\u001b[38;5;124men_core_web_sm\u001b[39m\u001b[38;5;124m\"\u001b[39m)\n\u001b[1;32m      3\u001b[0m doc \u001b[38;5;241m=\u001b[39m nlp(text)\n\u001b[0;32m----> 4\u001b[0m entities \u001b[38;5;241m=\u001b[39m [(e\u001b[38;5;241m.\u001b[39mtext, e\u001b[38;5;241m.\u001b[39mlabel_, \u001b[43me\u001b[49m\u001b[38;5;241;43m.\u001b[39;49m\u001b[43mdep_\u001b[49m) \u001b[38;5;28;01mfor\u001b[39;00m e \u001b[38;5;129;01min\u001b[39;00m doc\u001b[38;5;241m.\u001b[39ments]\n\u001b[1;32m      5\u001b[0m \u001b[38;5;66;03m# Process entities to identify subjects, objects and relationships\u001b[39;00m\n\u001b[1;32m      6\u001b[0m \u001b[38;5;66;03m# Modify this logic based on your specific needs\u001b[39;00m\n\u001b[1;32m      7\u001b[0m subjects, objects, relationships \u001b[38;5;241m=\u001b[39m \u001b[38;5;28mzip\u001b[39m(\u001b[38;5;241m*\u001b[39m[process_entity(e) \u001b[38;5;28;01mfor\u001b[39;00m e \u001b[38;5;129;01min\u001b[39;00m entities])\n",
      "\u001b[0;31mAttributeError\u001b[0m: 'spacy.tokens.span.Span' object has no attribute 'dep_'"
     ]
    }
   ],
   "source": [
    "def parse_text(text):\n",
    "  nlp = spacy.load(\"en_core_web_sm\")\n",
    "  doc = nlp(text)\n",
    "  entities = [(e.text, e.label_, e.dep_) for e in doc.ents]\n",
    "  # Process entities to identify subjects, objects and relationships\n",
    "  # Modify this logic based on your specific needs\n",
    "  subjects, objects, relationships = zip(*[process_entity(e) for e in entities])\n",
    "  return subjects, objects, relationships\n",
    "\n",
    "def process_entity(entity):\n",
    "  # Implement your logic to extract subject, object and relationship from the entity\n",
    "  # based on its text, label and dependency\n",
    "  subject = entity.text\n",
    "  object = ...\n",
    "  relationship = ...\n",
    "  return subject, object, relationship\n",
    "\n",
    "def extract_entities(folder_path):\n",
    "  \"\"\"\n",
    "  Extracts subjects, objects and relationships from documents/pdfs in a folder.\n",
    "\n",
    "  Args:\n",
    "    folder_path: Path to the folder containing documents/pdfs.\n",
    "\n",
    "  Returns:\n",
    "    A list of tuples (subject, object, relationship, doc_name, page_num)\n",
    "  \"\"\"\n",
    "  entities = []\n",
    "  for filename in os.listdir(folder_path):\n",
    "    filepath = os.path.join(folder_path, filename)\n",
    "    text = parser.from_file(filepath)['content']\n",
    "    # Use any entity extraction library (e.g., spaCy) to parse text and extract entities and relationships\n",
    "    # Replace the following with your chosen library's extraction logic\n",
    "    for subject, object, relation in parse_text(text):\n",
    "      entities.append((subject, object, relation, filename, page_num))\n",
    "  return entities\n",
    "\n",
    "def create_dataframe(entities):\n",
    "  \"\"\"\n",
    "  Creates a Pandas DataFrame from extracted entities.\n",
    "\n",
    "  Args:\n",
    "    entities: List of tuples (subject, object, relationship, doc_name, page_num)\n",
    "\n",
    "  Returns:\n",
    "    A Pandas DataFrame with columns: Subject, Object, Relationship, Doc Name, Page Number\n",
    "  \"\"\"\n",
    "  df = pd.DataFrame(entities, columns=['Subject', 'Object', 'Relationship', 'Doc Name', 'Page Number'])\n",
    "  return df\n",
    "\n",
    "def create_graph(df):\n",
    "  \"\"\"\n",
    "  Creates a Bokeh interactive directed graph from the DataFrame.\n",
    "\n",
    "  Args:\n",
    "    df: Pandas DataFrame with extracted entities.\n",
    "\n",
    "  Returns:\n",
    "    A Bokeh figure representing the interactive directed graph.\n",
    "  \"\"\"\n",
    "  graph = DiGraph()\n",
    "  for i, row in df.iterrows():\n",
    "    graph.add_edge(row['Subject'], row['Object'], label=row['Relationship'])\n",
    "\n",
    "  source = ColumnDataSource(graph.nodes, graph.edges)\n",
    "\n",
    "  p = figure(x_range=list(graph.nodes), y_range=list(graph.nodes), title=\"Extracted Entities Graph\")\n",
    "\n",
    "  # Nodes\n",
    "  p.circle(x='index', y='index', size=10, source=source, color='skyblue')\n",
    "  p.add_layout(LabelSet(x='index', y='index', text='index', source=source, level='glyph'))\n",
    "\n",
    "  # Edges\n",
    "  p.segment(x0='start', y0='start', x1='end', y1='end', source=source, line_width=2, color='gray',\n",
    "           legend_label=\"Relationships\")\n",
    "\n",
    "  # Hover tool\n",
    "  hover = HoverTool()\n",
    "  hover.tooltips = [\n",
    "    ('Subject:', '@index'),\n",
    "    ('Object:', '@index'),\n",
    "    ('Relationship:', '@label'),\n",
    "    ('Document:', '@{\"Doc Name\": \"doc_name\"}'),\n",
    "    ('Page:', '@{\"Page Number\": \"page_num\"}'),\n",
    "  ]\n",
    "  p.add_tools(hover)\n",
    "\n",
    "  p.xaxis.formatter = NumeralTickFormatter(format=\"0\")\n",
    "  p.yaxis.formatter = NumeralTickFormatter(format=\"0\")\n",
    "\n",
    "  # Zoom and filter options (uncomment if needed)\n",
    "  # p.zoom_in_tool = PanTool()\n",
    "  # p.zoom_out_tool = WheelZoomTool()\n",
    "\n",
    "  return p\n",
    "\n",
    "def main():\n",
    "  folder_path = '../data/raw/'\n",
    "  entities = extract_entities(folder_path)\n",
    "  df = create_dataframe(entities)\n",
    "  graph = create_graph(df)\n",
    "  show(graph)\n",
    "\n",
    "if __name__ == \"__main__\":\n",
    "  main()\n"
   ]
  },
  {
   "cell_type": "code",
   "execution_count": null,
   "metadata": {},
   "outputs": [],
   "source": []
  }
 ],
 "metadata": {
  "kernelspec": {
   "display_name": "Python 3 (ipykernel)",
   "language": "python",
   "name": "python3"
  },
  "language_info": {
   "codemirror_mode": {
    "name": "ipython",
    "version": 3
   },
   "file_extension": ".py",
   "mimetype": "text/x-python",
   "name": "python",
   "nbconvert_exporter": "python",
   "pygments_lexer": "ipython3",
   "version": "3.10.13"
  }
 },
 "nbformat": 4,
 "nbformat_minor": 2
}
